{
 "cells": [
  {
   "cell_type": "code",
   "execution_count": 3,
   "id": "951ddf24",
   "metadata": {},
   "outputs": [
    {
     "name": "stdout",
     "output_type": "stream",
     "text": [
      "h\n",
      "e\n",
      "l\n",
      "l\n",
      "o\n",
      " \n",
      "m\n",
      "e\n",
      "x\n",
      "i\n",
      "c\n",
      "o\n",
      "!\n"
     ]
    }
   ],
   "source": [
    "for letter in \"hello mexico!\":\n",
    "    print(letter)"
   ]
  },
  {
   "cell_type": "markdown",
   "id": "af863535",
   "metadata": {},
   "source": [
    "#Problem 1\n",
    "### Given two strings (s_a and s_b) let´s check whether or not are anagrmas of each other given the following criteria:\n",
    "#### Two strings are anagramas of each other if all condition below are met\n",
    "1. They must be exactly of the same length\n",
    "2. they must use the exact same character (no more no less)\n",
    "example cars and scar, heart and earth, etc\n"
   ]
  },
  {
   "cell_type": "code",
   "execution_count": 3,
   "id": "214c7c0a",
   "metadata": {},
   "outputs": [],
   "source": [
    "# instruction: populate the function below, so that it return true if the parameters are anagrmas,\n",
    "# flase otherwise\n",
    "\n",
    "def are_anagrams( string_a, string_b):\n",
    "    pass #remove pass when you´ve implemented the solution"
   ]
  },
  {
   "cell_type": "code",
   "execution_count": 5,
   "id": "de9a313b",
   "metadata": {},
   "outputs": [
    {
     "data": {
      "text/plain": [
       "True"
      ]
     },
     "execution_count": 5,
     "metadata": {},
     "output_type": "execute_result"
    }
   ],
   "source": [
    "def are_anagrams( s1, s2):\n",
    "    alphabet = {letter:0 for letter in s1}\n",
    "    \n",
    "    for letter in s1:\n",
    "        alphabet[letter]+=1\n",
    "    \n",
    "    for letter in s2:\n",
    "        if letter in alphabet:\n",
    "            alphabet[letter]-=1\n",
    "        else:\n",
    "            return False\n",
    "    i = 0\n",
    "    for letter in alphabet:\n",
    "        i += alphabet[letter]\n",
    "          \n",
    "    if i == 0:\n",
    "        return True\n",
    "    return False\n",
    "\n",
    "\n",
    "are_anagrams(\"night\",\"thing\")\n",
    "#Big O(3N+M)  N leng S1  M Leng S2"
   ]
  },
  {
   "cell_type": "code",
   "execution_count": null,
   "id": "313db673",
   "metadata": {},
   "outputs": [],
   "source": []
  }
 ],
 "metadata": {
  "kernelspec": {
   "display_name": "Python 3 (ipykernel)",
   "language": "python",
   "name": "python3"
  },
  "language_info": {
   "codemirror_mode": {
    "name": "ipython",
    "version": 3
   },
   "file_extension": ".py",
   "mimetype": "text/x-python",
   "name": "python",
   "nbconvert_exporter": "python",
   "pygments_lexer": "ipython3",
   "version": "3.8.10"
  }
 },
 "nbformat": 4,
 "nbformat_minor": 5
}
