{
 "cells": [
  {
   "cell_type": "code",
   "execution_count": 3,
   "id": "951ddf24",
   "metadata": {},
   "outputs": [
    {
     "name": "stdout",
     "output_type": "stream",
     "text": [
      "h\n",
      "e\n",
      "l\n",
      "l\n",
      "o\n",
      " \n",
      "m\n",
      "e\n",
      "x\n",
      "i\n",
      "c\n",
      "o\n",
      "!\n"
     ]
    }
   ],
   "source": [
    "for letter in \"hello mexico!\":\n",
    "    print(letter)"
   ]
  },
  {
   "cell_type": "markdown",
   "id": "af863535",
   "metadata": {},
   "source": [
    "#Problem 1\n",
    "### Given two strings (s_a and s_b) let´s check whether or not are anagrmas of each other given the following criteria:\n",
    "#### Two strings are anagramas of each other if all condition below are met\n",
    "1. They must be exactly of the same length\n",
    "2. they must use the exact same character (no more no less)\n",
    "example cars and scar, heart and earth, etc\n"
   ]
  },
  {
   "cell_type": "code",
   "execution_count": 3,
   "id": "214c7c0a",
   "metadata": {},
   "outputs": [],
   "source": [
    "# instruction: populate the function below, so that it return true if the parameters are anagrmas,\n",
    "# flase otherwise\n",
    "\n",
    "def are_anagrams( string_a, string_b):\n",
    "    pass #remove pass when you´ve implemented the solution"
   ]
  },
  {
   "cell_type": "code",
   "execution_count": 10,
   "id": "de9a313b",
   "metadata": {},
   "outputs": [
    {
     "data": {
      "text/plain": [
       "False"
      ]
     },
     "execution_count": 10,
     "metadata": {},
     "output_type": "execute_result"
    }
   ],
   "source": [
    "def are_anagrams( s1, s2):\n",
    "    alphabet = {letter:0 for letter in s1}\n",
    "    \n",
    "    for letter in s1:\n",
    "        alphabet[letter]+=1\n",
    "    \n",
    "    for letter in s2:\n",
    "        if letter in alphabet:\n",
    "            alphabet[letter]-=1\n",
    "        else:\n",
    "            return False\n",
    "    i = 0\n",
    "    for letter in alphabet:\n",
    "        i += alphabet[letter]\n",
    "          \n",
    "    if i == 0:\n",
    "        return True\n",
    "    return False\n",
    "\n",
    "\n",
    "are_anagrams(\"I am Lord Voldermort\",\"scar\")\n",
    "#Big O(3N+M)  N leng S1  M Leng S2"
   ]
  },
  {
   "cell_type": "code",
   "execution_count": 15,
   "id": "313db673",
   "metadata": {},
   "outputs": [
    {
     "data": {
      "text/plain": [
       "True"
      ]
     },
     "execution_count": 15,
     "metadata": {},
     "output_type": "execute_result"
    }
   ],
   "source": [
    "# the best case time complexity will be =(1) AKA constant time\n",
    "# the worst case time complexity will be O(n) AKA linear time\n",
    "\n",
    "def are_anagrams( s1, s2):\n",
    "    if len(s1) != len(s2):\n",
    "        return false\n",
    "    dict_a = {}\n",
    "    dict_b = {}\n",
    "    for i in range (len(s1)):\n",
    "        if s1[i] in dict_a.keys():\n",
    "            dict_a[s1[i]] += 1\n",
    "        else:\n",
    "            dict_a[s1[i]] = 1\n",
    "            \n",
    "        if s2[i] in dict_b.keys():\n",
    "            dict_b[s2[i]] += 1\n",
    "        else:\n",
    "            dict_b[s2[i]] = 1         \n",
    "\n",
    "    return dict_a == dict_b\n",
    "\n",
    "are_anagrams(\"cars\",\"scar\")\n",
    "            \n",
    "        \n",
    "        "
   ]
  },
  {
   "cell_type": "code",
   "execution_count": 16,
   "id": "c3472de6",
   "metadata": {},
   "outputs": [],
   "source": [
    "# In the Harry Potter serires\n",
    "# The vilans{s name is Lord Voldemort, is anagram of Tom Rider}\n",
    "# I am Lord Voldermort wich is an anagram of Tom Marvolo Riddle\n",
    "\n",
    "# this extension is the homework assigment\n",
    "# Your function should return true for the example show above"
   ]
  },
  {
   "cell_type": "code",
   "execution_count": 25,
   "id": "5444ec67",
   "metadata": {},
   "outputs": [
    {
     "name": "stdout",
     "output_type": "stream",
     "text": [
      "{'I': 1, ' ': 3, 'A': 1, 'M': 2, 'L': 2, 'O': 3, 'R': 2, 'D': 2, 'V': 1, 'E': 1, 'T': 1}\n"
     ]
    },
    {
     "data": {
      "text/plain": [
       "True"
      ]
     },
     "execution_count": 25,
     "metadata": {},
     "output_type": "execute_result"
    }
   ],
   "source": [
    "# Case Lord Voldermot\n",
    "\n",
    "def are_anagrams( s1, s2):\n",
    "    s1 = s1.upper()\n",
    "    s2 = s2.upper()\n",
    "    \n",
    "    alphabet = {letter:0 for letter in s1}\n",
    "    \n",
    "    for letter in s1:\n",
    "        alphabet[letter]+=1\n",
    "    \n",
    "    print(alphabet)\n",
    "    for letter in s2:\n",
    "        if letter in alphabet:\n",
    "            alphabet[letter]-=1\n",
    "        else:\n",
    "            return False\n",
    "    alphabet[\" \"] = 0  # Eliminate the spaces\n",
    "\n",
    "    i = 0\n",
    "    for letter in alphabet:\n",
    "        i += alphabet[letter]\n",
    "          \n",
    "    if i == 0:\n",
    "        return True\n",
    "    return False\n",
    "\n",
    "\n",
    "are_anagrams(\"I Am Lord Voldemort\",\"Tom Marvolo Riddle\")\n",
    "#Big O(3N+M)  N leng S1  M Leng S2"
   ]
  },
  {
   "cell_type": "code",
   "execution_count": null,
   "id": "ab18b3fa",
   "metadata": {},
   "outputs": [],
   "source": []
  }
 ],
 "metadata": {
  "kernelspec": {
   "display_name": "Python 3 (ipykernel)",
   "language": "python",
   "name": "python3"
  },
  "language_info": {
   "codemirror_mode": {
    "name": "ipython",
    "version": 3
   },
   "file_extension": ".py",
   "mimetype": "text/x-python",
   "name": "python",
   "nbconvert_exporter": "python",
   "pygments_lexer": "ipython3",
   "version": "3.8.10"
  }
 },
 "nbformat": 4,
 "nbformat_minor": 5
}
