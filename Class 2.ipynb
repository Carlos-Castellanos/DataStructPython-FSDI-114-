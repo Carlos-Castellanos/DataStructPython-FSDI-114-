{
 "cells": [
  {
   "cell_type": "code",
   "execution_count": 7,
   "id": "a0de687a",
   "metadata": {
    "scrolled": true
   },
   "outputs": [
    {
     "data": {
      "text/plain": [
       "'solrac'"
      ]
     },
     "execution_count": 7,
     "metadata": {},
     "output_type": "execute_result"
    }
   ],
   "source": [
    "# This is an example of a stack using build-in data structures\n",
    "# User-defined data structure\n",
    "\n",
    "class Stack:\n",
    "    def __init__(self):\n",
    "        self.items = []\n",
    "        \n",
    "    def push(self, item):\n",
    "        self.items.append(item)\n",
    "        \n",
    "    def pop(self):\n",
    "        return self.items.pop()\n",
    "    \n",
    "    def is_empty(self):\n",
    "        return self.items == []\n",
    "    \n",
    "    def size(self):\n",
    "        return len(self.items)\n",
    "    \n",
    "    def peek(self):\n",
    "        return self.itmes[len(self.items)-1]\n",
    "\n"
   ]
  },
  {
   "cell_type": "markdown",
   "id": "6e407f04",
   "metadata": {},
   "source": [
    "# Problem 2: Inverting a String\n",
    "### Stack naturally allow us to invert a sequence of elements if we sequentially psuh them into our stack and sequentially pop them from our stack\n",
    "\n",
    "### use our stack class above to invert a string such that\n",
    "\n",
    "### reverse (\"Rafael\") return (\"leafaR\")\n"
   ]
  },
  {
   "cell_type": "code",
   "execution_count": 19,
   "id": "cb359d03",
   "metadata": {},
   "outputs": [
    {
     "data": {
      "text/plain": [
       "'ilacixeM'"
      ]
     },
     "execution_count": 19,
     "metadata": {},
     "output_type": "execute_result"
    }
   ],
   "source": [
    "def reverse(string_a): \n",
    "\n",
    "    myStack=Stack() \n",
    "    reverseString = \"\"\n",
    "\n",
    "    for element in string_a:\n",
    "        myStack.push(element)\n",
    "\n",
    "    while not myStack.is_empty():\n",
    "        reverseString += myStack.pop()\n",
    "\n",
    "    return reverseString\n",
    "\n",
    "reverse(\"Mexicali\")"
   ]
  },
  {
   "cell_type": "code",
   "execution_count": 24,
   "id": "553b79c2",
   "metadata": {},
   "outputs": [
    {
     "name": "stdout",
     "output_type": "stream",
     "text": [
      "Adding 1 to our queue\n",
      "Adding 2 to our queue\n",
      "Adding 3 to our queue\n",
      "Adding 4 to our queue\n",
      "Adding 5 to our queue\n",
      "1 squared is 1\n",
      "2 squared is 4\n",
      "3 squared is 9\n",
      "4 squared is 16\n",
      "5 squared is 25\n"
     ]
    }
   ],
   "source": [
    "class Queue:\n",
    "    def __init__(self):\n",
    "        self.items = []\n",
    "        \n",
    "    #insert in pos 0 of the list (rear element)  \n",
    "    def enqueue(self, item):\n",
    "        self.items.insert(0,item)\n",
    "        \n",
    "    # dequeue end of the list (front element)   \n",
    "    def dequeue(self):\n",
    "        return self.items.pop()\n",
    "    \n",
    "    def is_empty(self):\n",
    "        return self.items == []\n",
    "    \n",
    "    def size(self):\n",
    "        return len(self.items)\n",
    "    \n",
    "# form 1: insert(0,item)  pop()\n",
    "# form 2: push(item)  pop(0)\n",
    "\n"
   ]
  },
  {
   "cell_type": "code",
   "execution_count": 25,
   "id": "1d42e55e",
   "metadata": {},
   "outputs": [
    {
     "name": "stdout",
     "output_type": "stream",
     "text": [
      "Adding 1 to our queue\n",
      "Adding 2 to our queue\n",
      "Adding 3 to our queue\n",
      "Adding 4 to our queue\n",
      "Adding 5 to our queue\n",
      "1 squared is 1\n",
      "2 squared is 4\n",
      "3 squared is 9\n",
      "4 squared is 16\n",
      "5 squared is 25\n"
     ]
    }
   ],
   "source": [
    "from random import randint\n",
    "from time import sleep\n",
    "\n",
    "def square_queue(elements):\n",
    "    queue = Queue()\n",
    "    for element in elements:\n",
    "        print(\"Adding %s to our queue\" % element)\n",
    "        queue.enqueue(element)\n",
    "    \n",
    "    while not queue.is_empty():\n",
    "        datum = queue.dequeue()\n",
    "        sleep(randint(1,3))\n",
    "        print(\"%s squared is %s\" % (datum, datum**2))\n",
    "        \n"
   ]
  },
  {
   "cell_type": "code",
   "execution_count": 26,
   "id": "b3cb451c",
   "metadata": {},
   "outputs": [
    {
     "name": "stdout",
     "output_type": "stream",
     "text": [
      "Adding 1 to our queue\n",
      "Adding 2 to our queue\n",
      "Adding 3 to our queue\n",
      "Adding 4 to our queue\n",
      "Adding 5 to our queue\n",
      "1 squared is 1\n",
      "2 squared is 4\n",
      "3 squared is 9\n",
      "4 squared is 16\n",
      "5 squared is 25\n"
     ]
    }
   ],
   "source": [
    "square_queue([1,2,3,4,5])"
   ]
  },
  {
   "cell_type": "code",
   "execution_count": 29,
   "id": "571bf53e",
   "metadata": {},
   "outputs": [],
   "source": [
    "class Node:\n",
    "    def __init__(self,data):\n",
    "        self.data = data\n",
    "        self.above = None"
   ]
  },
  {
   "cell_type": "code",
   "execution_count": 45,
   "id": "1f8af57f",
   "metadata": {},
   "outputs": [],
   "source": [
    "# Create a stack class with linked list \n",
    "class Stack2:\n",
    "    def __init__(self):\n",
    "        self.base = None\n",
    "        self.stacksize = 0\n",
    "        \n",
    "    def push(self, item):\n",
    "        self.stacksize += 1\n",
    "        if not self.base:\n",
    "            self.base = Node(item)\n",
    "        else:\n",
    "            current = Node(item)\n",
    "            current.above = self.base\n",
    "            self.base = current      \n",
    "        \n",
    "    def pop(self):\n",
    "        if not self.is_empty():\n",
    "            self.stacksize -= 1\n",
    "            value = self.base.data\n",
    "            self.base = self.base.above\n",
    "            return value\n",
    "        else:\n",
    "            return False      #underflow error\n",
    "    \n",
    "    def is_empty(self):\n",
    "        return self.base == None\n",
    "    \n",
    "    def size(self):\n",
    "        return self.stacksize\n",
    "    \n",
    "    def peek(self):\n",
    "        return self.base.data"
   ]
  },
  {
   "cell_type": "code",
   "execution_count": 53,
   "id": "21ef72e9",
   "metadata": {},
   "outputs": [
    {
     "data": {
      "text/plain": [
       "'aegnaP'"
      ]
     },
     "execution_count": 53,
     "metadata": {},
     "output_type": "execute_result"
    }
   ],
   "source": [
    "def reverse(string_a): \n",
    "    #using linked list stack\n",
    "    myStack=Stack2() \n",
    "    reverseString = \"\"\n",
    "\n",
    "    for element in string_a:\n",
    "        myStack.push(element)\n",
    "\n",
    "    while not myStack.is_empty():\n",
    "        reverseString += myStack.pop()\n",
    "\n",
    "    return reverseString\n",
    "\n",
    "reverse(\"Pangea\")     # with Stack linked List"
   ]
  },
  {
   "cell_type": "code",
   "execution_count": 60,
   "id": "e599da52",
   "metadata": {},
   "outputs": [],
   "source": [
    "# Create a queue class with linked list \n",
    "class Queue2:\n",
    "    def __init__(self):\n",
    "        self.front = None\n",
    "        self.queueSize = 0\n",
    "        \n",
    "    def enqueue(self, item):\n",
    "        self.queueSize += 1\n",
    "        if not self.front:           #first element\n",
    "            self.front = Node(item)\n",
    "        else:\n",
    "            second_last = self.front\n",
    "            while second_last.above is not None:\n",
    "                second_last = second_last.above\n",
    "            second_last.above = Node(item)       \n",
    "       \n",
    "    def dequeue(self):\n",
    "        if not self.is_empty():\n",
    "            self.queueSize -= 1\n",
    "            value = self.front.data\n",
    "            self.front = self.front.above\n",
    "            return value\n",
    "        else:\n",
    "            return False   #underflow error\n",
    "    \n",
    "    def is_empty(self):\n",
    "        return self.front == None\n",
    "    \n",
    "    def size(self):\n",
    "        return self.queueSize\n",
    "    \n",
    "    def peek(self):\n",
    "        return self.front.data"
   ]
  },
  {
   "cell_type": "code",
   "execution_count": 64,
   "id": "e5328ee0",
   "metadata": {},
   "outputs": [],
   "source": [
    "from random import randint\n",
    "from time import sleep\n",
    "\n",
    "def square_queue(elements):\n",
    "    queue = Queue2()\n",
    "    for element in elements:\n",
    "        print(\"Adding %s to our queue\" % element)\n",
    "        queue.enqueue(element)\n",
    "    \n",
    "    while not queue.is_empty():\n",
    "        datum = queue.dequeue()\n",
    "        sleep(randint(1,3))\n",
    "        print(\"%s squared is %s\" % (datum, datum**2))"
   ]
  },
  {
   "cell_type": "code",
   "execution_count": 65,
   "id": "26fc5941",
   "metadata": {},
   "outputs": [
    {
     "name": "stdout",
     "output_type": "stream",
     "text": [
      "Adding 1 to our queue\n",
      "Adding 2 to our queue\n",
      "Adding 3 to our queue\n",
      "Adding 4 to our queue\n",
      "Adding 5 to our queue\n",
      "1 squared is 1\n",
      "2 squared is 4\n",
      "3 squared is 9\n",
      "4 squared is 16\n",
      "5 squared is 25\n"
     ]
    }
   ],
   "source": [
    "square_queue([1,2,3,4,5]) # with Queue linked List"
   ]
  },
  {
   "cell_type": "code",
   "execution_count": null,
   "id": "5745a0bd",
   "metadata": {},
   "outputs": [],
   "source": []
  }
 ],
 "metadata": {
  "kernelspec": {
   "display_name": "Python 3 (ipykernel)",
   "language": "python",
   "name": "python3"
  },
  "language_info": {
   "codemirror_mode": {
    "name": "ipython",
    "version": 3
   },
   "file_extension": ".py",
   "mimetype": "text/x-python",
   "name": "python",
   "nbconvert_exporter": "python",
   "pygments_lexer": "ipython3",
   "version": "3.8.10"
  }
 },
 "nbformat": 4,
 "nbformat_minor": 5
}
